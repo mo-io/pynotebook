{
 "cells": [
  {
   "cell_type": "markdown",
   "metadata": {},
   "source": [
    "# اكتب برنامج يقرأ من المستخدم رقم صحيح و يطبعه إذا كان من مضاعفات الرقم 3  و إلا يطبع عبارة - ليس من مضاعفات 3"
   ]
  },
  {
   "cell_type": "code",
   "execution_count": 1,
   "metadata": {},
   "outputs": [
    {
     "name": "stdout",
     "output_type": "stream",
     "text": [
      "ادخل رقم صحيح: 9\n"
     ]
    }
   ],
   "source": [
    "num = int(input('ادخل رقم صحيح: '))"
   ]
  },
  {
   "cell_type": "code",
   "execution_count": 6,
   "metadata": {},
   "outputs": [
    {
     "name": "stdout",
     "output_type": "stream",
     "text": [
      "9\n"
     ]
    }
   ],
   "source": [
    "if num % 3 == 0:\n",
    "    print(num)\n",
    "else:\n",
    "    print('ليس من مضاعفات الرقم 3')"
   ]
  },
  {
   "cell_type": "markdown",
   "metadata": {},
   "source": [
    "# اكتب برنامج يقرأ من المستخدم رقمين صحيحين و يطبع مجموعهم إذا كان المجموع من مضاعفات الرقم 2  و إلا يطبع عبارة (Try Later)"
   ]
  },
  {
   "cell_type": "code",
   "execution_count": 7,
   "metadata": {},
   "outputs": [
    {
     "name": "stdout",
     "output_type": "stream",
     "text": [
      "ادخل الرقم الاول الصحيح: 9\n",
      "ادخل الرقم الثاني الصحيح: 8\n",
      "Try later!\n"
     ]
    }
   ],
   "source": [
    "num1 = int(input('ادخل الرقم الاول الصحيح: '))\n",
    "num2 = int(input('ادخل الرقم الثاني الصحيح: '))\n",
    "result = num1 + num2\n",
    "if result % 2 == 0:\n",
    "    print(resutl)\n",
    "else:\n",
    "    print('Try later!')"
   ]
  },
  {
   "cell_type": "markdown",
   "metadata": {},
   "source": [
    "# اكتب  برنامج يقرأ من المستخدم ثلاث أرقام صحيحة فيطبع أكبرهم."
   ]
  },
  {
   "cell_type": "code",
   "execution_count": 8,
   "metadata": {},
   "outputs": [
    {
     "name": "stdout",
     "output_type": "stream",
     "text": [
      "ادخل الرقم الاول الصحيح: 9\n",
      "ادخل الرقم الثاني الصحيح: 7\n",
      "ادخل الرقم الثالث الصحيح: 6\n",
      "9\n"
     ]
    }
   ],
   "source": [
    "num1 = int(input('ادخل الرقم الاول الصحيح: '))\n",
    "num2 = int(input('ادخل الرقم الثاني الصحيح: '))\n",
    "num3 = int(input('ادخل الرقم الثالث الصحيح: '))\n",
    "\n",
    "if num1 > num2 and num1 > num3:\n",
    "    print(num1)\n",
    "elif num2 > num1 and num2 > num3:\n",
    "    print(num2)\n",
    "else:\n",
    "    print(num3)"
   ]
  },
  {
   "cell_type": "markdown",
   "metadata": {},
   "source": [
    "# اكتب برنامج يقرأ من المستخدم اسم مستخدم و كلمة مرور ثم يخزنهم , ثم يطلب من المستخدم إدخال اسم المستخدم و كلمة المرور فإذا كانت مطابقة للأولى يطبع له (أهلا بك) و إلا يطبع له الجزء الغير متطابق"
   ]
  },
  {
   "cell_type": "code",
   "execution_count": 1,
   "metadata": {},
   "outputs": [
    {
     "name": "stdout",
     "output_type": "stream",
     "text": [
      "ادخل اسم المستخدم : ahmed\n",
      "ادخل كلمة المرور : 123456\n",
      "تم حفظ البيانات بنجاح\n",
      "\n"
     ]
    }
   ],
   "source": [
    "username1 = input('ادخل اسم المستخدم : ')\n",
    "password1 = input('ادخل كلمة المرور : ')\n",
    "print('تم حفظ البيانات بنجاح\\n')"
   ]
  },
  {
   "cell_type": "code",
   "execution_count": 2,
   "metadata": {},
   "outputs": [
    {
     "name": "stdout",
     "output_type": "stream",
     "text": [
      "\n",
      "لتسجيل الدخول ادخل اسم المستخدم وكلمة المرور\n",
      "اسم المستخدم: ahmed\n",
      "كلمة المرور: 123456\n",
      "اهلا بك..\n"
     ]
    }
   ],
   "source": [
    "print('\\nلتسجيل الدخول ادخل اسم المستخدم وكلمة المرور')\n",
    "username2 = input('اسم المستخدم: ')\n",
    "password2 = input('كلمة المرور: ')\n",
    "if username1 == username2 and password1 == password2:\n",
    "    print('اهلا بك..')\n",
    "else:\n",
    "    print('اسم المستخدم او كلمة المرور غير مطابقة')"
   ]
  },
  {
   "cell_type": "code",
   "execution_count": 3,
   "metadata": {},
   "outputs": [
    {
     "name": "stdout",
     "output_type": "stream",
     "text": [
      "\n",
      "لتسجيل الدخول ادخل اسم المستخدم وكلمة المرور\n",
      "اسم المستخدم: ahmed\n",
      "كلمة المرور: 44444\n",
      "اسم المستخدم او كلمة المرور غير مطابقة\n"
     ]
    }
   ],
   "source": [
    "print('\\nلتسجيل الدخول ادخل اسم المستخدم وكلمة المرور')\n",
    "username2 = input('اسم المستخدم: ')\n",
    "password2 = input('كلمة المرور: ')\n",
    "if username1 == username2 and password1 == password2:\n",
    "    print('اهلا بك..')\n",
    "else:\n",
    "    print('اسم المستخدم او كلمة المرور غير مطابقة')"
   ]
  }
 ],
 "metadata": {
  "kernelspec": {
   "display_name": "Python 3",
   "language": "python",
   "name": "python3"
  },
  "language_info": {
   "codemirror_mode": {
    "name": "ipython",
    "version": 3
   },
   "file_extension": ".py",
   "mimetype": "text/x-python",
   "name": "python",
   "nbconvert_exporter": "python",
   "pygments_lexer": "ipython3",
   "version": "3.6.3"
  }
 },
 "nbformat": 4,
 "nbformat_minor": 2
}
