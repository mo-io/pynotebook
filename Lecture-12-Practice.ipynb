{
 "cells": [
  {
   "cell_type": "markdown",
   "metadata": {},
   "source": [
    "# حول الجمل التالية إلى جمل برمجيـة متوافقة مع قواعد لغة بايثون"
   ]
  },
  {
   "cell_type": "markdown",
   "metadata": {},
   "source": [
    "### طباعة مضاعفات العدد  5 من 0 إلى 100"
   ]
  },
  {
   "cell_type": "code",
   "execution_count": 2,
   "metadata": {},
   "outputs": [
    {
     "name": "stdout",
     "output_type": "stream",
     "text": [
      "0\n",
      "5\n",
      "10\n",
      "15\n",
      "20\n",
      "25\n",
      "30\n",
      "35\n",
      "40\n",
      "45\n",
      "50\n",
      "55\n",
      "60\n",
      "65\n",
      "70\n",
      "75\n",
      "80\n",
      "85\n",
      "90\n",
      "95\n",
      "100\n"
     ]
    }
   ],
   "source": [
    "for num in range(101):\n",
    "    if num % 5 == 0:\n",
    "        print(num)"
   ]
  },
  {
   "cell_type": "markdown",
   "metadata": {},
   "source": [
    "##  طباعة الكلمة (”بايثون“) طالما كان يدخل المستخدم الرقم 1."
   ]
  },
  {
   "cell_type": "code",
   "execution_count": 3,
   "metadata": {},
   "outputs": [
    {
     "name": "stdout",
     "output_type": "stream",
     "text": [
      "بايثون!\n",
      "أدخل رقم: 1\n",
      "بايثون!\n",
      "أدخل رقم: 1\n",
      "بايثون!\n",
      "أدخل رقم: 1\n",
      "بايثون!\n",
      "أدخل رقم: 2\n"
     ]
    }
   ],
   "source": [
    "x = 1\n",
    "while x == 1:\n",
    "    print('بايثون!')\n",
    "    x = int(input('أدخل رقم: '))"
   ]
  },
  {
   "cell_type": "markdown",
   "metadata": {},
   "source": [
    "### طباعة خمس نجوم أفقيـة يفصل بينها ثماني مسافات , مستخدما جملة طباعة واحدة و نجمة واحدة."
   ]
  },
  {
   "cell_type": "code",
   "execution_count": 6,
   "metadata": {},
   "outputs": [
    {
     "name": "stdout",
     "output_type": "stream",
     "text": [
      "*\t*\t*\t*\t*\t\n"
     ]
    }
   ],
   "source": [
    "print('*\\t'*5)"
   ]
  },
  {
   "cell_type": "markdown",
   "metadata": {},
   "source": [
    "### طباعة عشر صفوف من النجوم بحيث يكون عدد النجوم في كل صف ضعف رقم الصف , مستخدما جملة طباعة واحدة و نجمة واحدة."
   ]
  },
  {
   "cell_type": "code",
   "execution_count": 10,
   "metadata": {},
   "outputs": [
    {
     "name": "stdout",
     "output_type": "stream",
     "text": [
      "\n",
      "* * \n",
      "* * * * \n",
      "* * * * * * \n",
      "* * * * * * * * \n",
      "* * * * * * * * * * \n",
      "* * * * * * * * * * * * \n",
      "* * * * * * * * * * * * * * \n",
      "* * * * * * * * * * * * * * * * \n",
      "* * * * * * * * * * * * * * * * * * \n"
     ]
    }
   ],
   "source": [
    "for x in range(10):\n",
    "    print('* ' * x*2)"
   ]
  },
  {
   "cell_type": "markdown",
   "metadata": {},
   "source": [
    "### اكتب برنامج يقوم باستقبال عدد من الأرقام الصحيحة بين 0 و 100 و يطبع أكبرهم و أصغرهم على اعتبار أن الرقم المدخل الأول هو عدد الأرقام التي يمكنه إدخاله."
   ]
  },
  {
   "cell_type": "code",
   "execution_count": 1,
   "metadata": {},
   "outputs": [
    {
     "name": "stdout",
     "output_type": "stream",
     "text": [
      "ادخل رقم بين 0 و 100 : 7\n",
      "سوف تدخل 7 ارقام \n",
      "\n",
      "ادخل الرقم :55\n",
      "ادخل الرقم :62\n",
      "ادخل الرقم :35\n",
      "ادخل الرقم :99\n",
      "ادخل الرقم :12\n",
      "ادخل الرقم :4\n",
      "ادخل الرقم :75\n",
      "اكبر رقم مدخل : 99\n",
      "اصغر رقم مدخل : 4\n",
      "ادخل رقم بين 0 و 100 : -1\n"
     ]
    }
   ],
   "source": [
    "max_num = 0\n",
    "min_num = 101\n",
    "count = int(input('ادخل رقم بين 0 و 100 : '))\n",
    "while count <= 100 and count >= 0:\n",
    "    print('سوف تدخل {} ارقام \\n'.format(count))\n",
    "    for x in range(count):\n",
    "        y = int(input('ادخل الرقم :'))\n",
    "        if y < min_num:\n",
    "            min_num = y\n",
    "        elif y > max_num:\n",
    "            max_num = y\n",
    "    print('اكبر رقم مدخل : {}'.format(max_num))\n",
    "    print('اصغر رقم مدخل : {}'.format(min_num))\n",
    "    count = int(input('ادخل رقم بين 0 و 100 : '))\n",
    "\n",
    "            "
   ]
  },
  {
   "cell_type": "markdown",
   "metadata": {},
   "source": [
    "### اكتب برنامج يقوم بطباعة مضروب الأعداد الفردية من 1 إلى 15 ."
   ]
  },
  {
   "cell_type": "code",
   "execution_count": 21,
   "metadata": {},
   "outputs": [
    {
     "name": "stdout",
     "output_type": "stream",
     "text": [
      "2027025\n"
     ]
    }
   ],
   "source": [
    "output = 1       \n",
    "for i in range(16):\n",
    "    if i % 2 != 0:\n",
    "        output = output * i\n",
    "print(output)"
   ]
  },
  {
   "cell_type": "markdown",
   "metadata": {},
   "source": [
    "### مستخدماً التكرارات و جمل الطباعة اكتب برنامج يقوم بطباعة شكل هرمي مكون من نجوم:"
   ]
  },
  {
   "cell_type": "code",
   "execution_count": 29,
   "metadata": {},
   "outputs": [
    {
     "name": "stdout",
     "output_type": "stream",
     "text": [
      "ادخل عدد الصفوف: 10\n",
      "         *\n",
      "        ***\n",
      "       *****\n",
      "      *******\n",
      "     *********\n",
      "    ***********\n",
      "   *************\n",
      "  ***************\n",
      " *****************\n",
      "*******************\n"
     ]
    }
   ],
   "source": [
    "rows = int(input('ادخل عدد الصفوف: '))\n",
    "for i in range(rows):\n",
    "    print(' ' * (rows - i-1) + '*' * (2 * i+1))"
   ]
  },
  {
   "cell_type": "code",
   "execution_count": null,
   "metadata": {},
   "outputs": [],
   "source": []
  }
 ],
 "metadata": {
  "kernelspec": {
   "display_name": "Python 3",
   "language": "python",
   "name": "python3"
  },
  "language_info": {
   "codemirror_mode": {
    "name": "ipython",
    "version": 3
   },
   "file_extension": ".py",
   "mimetype": "text/x-python",
   "name": "python",
   "nbconvert_exporter": "python",
   "pygments_lexer": "ipython3",
   "version": "3.6.4"
  }
 },
 "nbformat": 4,
 "nbformat_minor": 2
}
