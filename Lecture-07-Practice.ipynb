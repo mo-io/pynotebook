{
 "cells": [
  {
   "cell_type": "markdown",
   "metadata": {},
   "source": [
    "# تمارين على جمل الادخال "
   ]
  },
  {
   "cell_type": "markdown",
   "metadata": {},
   "source": [
    "###   اكتب برنامج حسب الخطوات الآتية :\n",
    "\n",
    "- عرف متغيرين بالاسماء (f_num , s_num)\n",
    "\n",
    "- جملة برمجية تحث المستخدم على ادخال رقم على ان يتم تخزين الرقم في المتغير الاول\n",
    "\n",
    "- جملة برمجية تحث المستخدم على ادخال رقم ثاني على ان يتم تخزين الرقم في المتغير الثاني\n",
    "\n",
    "اربع جمل برمجية تطبع الاتي :\n",
    "\n",
    "حاصل جمع الرقمين- \n",
    "حاصل طرح الرقمين-\n",
    "حاصل ضرب الرقمين-\n",
    "حاصل قسمة الرقمين-"
   ]
  },
  {
   "cell_type": "code",
   "execution_count": 4,
   "metadata": {},
   "outputs": [
    {
     "name": "stdout",
     "output_type": "stream",
     "text": [
      "ادخل الرقم الاول:5\n"
     ]
    }
   ],
   "source": [
    "f_num = input('ادخل الرقم الاول:')"
   ]
  },
  {
   "cell_type": "code",
   "execution_count": 5,
   "metadata": {},
   "outputs": [
    {
     "name": "stdout",
     "output_type": "stream",
     "text": [
      "ادخل الرقم الثاني:3\n"
     ]
    }
   ],
   "source": [
    "s_num = input('ادخل الرقم الثاني:')"
   ]
  },
  {
   "cell_type": "markdown",
   "metadata": {},
   "source": [
    "### سوف نستخدم الدالة برنت لطباعة حاصل الجمع"
   ]
  },
  {
   "cell_type": "code",
   "execution_count": 6,
   "metadata": {},
   "outputs": [
    {
     "name": "stdout",
     "output_type": "stream",
     "text": [
      "53\n"
     ]
    }
   ],
   "source": [
    "print(f_num + s_num)"
   ]
  },
  {
   "cell_type": "markdown",
   "metadata": {},
   "source": [
    "### قمنا بإدخال الرقم 5 والرقم 3 وعند تنفيذ عملية الجمع ظهر الناتج 53 ولم يظهر 8 \n",
    "###   وذلك لان القيم المدخلة عن طريق الدالة (انبت ) تدخل سلاسل حرفية وعند اجراء عملية الجمع تم دمج القيمتين وليس جمعهما\n",
    "### لذلك نحتاج لتحويل القيم المدخلة الي نوع بيانات يمكن ان نجري عليه عمليات حسابية مثل الاعداد الصحيحة \n",
    "### لذلك سوف نستخدم \n",
    "### int()"
   ]
  },
  {
   "cell_type": "code",
   "execution_count": 2,
   "metadata": {},
   "outputs": [
    {
     "name": "stdout",
     "output_type": "stream",
     "text": [
      "ادخل الرقم الاول:3\n"
     ]
    }
   ],
   "source": [
    "f_num = int(input('ادخل الرقم الاول:'))"
   ]
  },
  {
   "cell_type": "code",
   "execution_count": 3,
   "metadata": {},
   "outputs": [
    {
     "name": "stdout",
     "output_type": "stream",
     "text": [
      "ادخل الرقم الثاني:5\n"
     ]
    }
   ],
   "source": [
    "s_num = int(input('ادخل الرقم الثاني:'))"
   ]
  },
  {
   "cell_type": "markdown",
   "metadata": {},
   "source": [
    "### ثم نعيد اجراء عملية الجمع "
   ]
  },
  {
   "cell_type": "code",
   "execution_count": 4,
   "metadata": {},
   "outputs": [
    {
     "name": "stdout",
     "output_type": "stream",
     "text": [
      "8\n"
     ]
    }
   ],
   "source": [
    "print(f_num + s_num)"
   ]
  },
  {
   "cell_type": "markdown",
   "metadata": {},
   "source": [
    "### عليه يمكن اكمال بقية العمليات من ضرب وطرح وقسمة وسوف نحصل على نتائج صحيحة"
   ]
  },
  {
   "cell_type": "code",
   "execution_count": 5,
   "metadata": {},
   "outputs": [
    {
     "name": "stdout",
     "output_type": "stream",
     "text": [
      "-2\n",
      "15\n",
      "0.6\n"
     ]
    }
   ],
   "source": [
    "print(f_num - s_num)\n",
    "print(f_num * s_num)\n",
    "print(f_num / s_num)"
   ]
  },
  {
   "cell_type": "markdown",
   "metadata": {},
   "source": [
    "## وفي هذه الخطوة سوف نستخدم الدالة فورمات لتحسين مخرجات البرنامج"
   ]
  },
  {
   "cell_type": "code",
   "execution_count": 7,
   "metadata": {},
   "outputs": [
    {
     "name": "stdout",
     "output_type": "stream",
     "text": [
      "3 + 5 = 8\n",
      "3 - 5 = -2\n",
      "3 * 5 = 15\n",
      "3 / 5 = 0.6\n"
     ]
    }
   ],
   "source": [
    "print('{} + {} = {}'.format(f_num, s_num, f_num + s_num))\n",
    "print('{} - {} = {}'.format(f_num, s_num, f_num - s_num))\n",
    "print('{} * {} = {}'.format(f_num, s_num, f_num * s_num))\n",
    "print('{} / {} = {}'.format(f_num, s_num, f_num / s_num))"
   ]
  }
 ],
 "metadata": {
  "kernelspec": {
   "display_name": "Python 3",
   "language": "python",
   "name": "python3"
  },
  "language_info": {
   "codemirror_mode": {
    "name": "ipython",
    "version": 3
   },
   "file_extension": ".py",
   "mimetype": "text/x-python",
   "name": "python",
   "nbconvert_exporter": "python",
   "pygments_lexer": "ipython3",
   "version": "3.6.4"
  }
 },
 "nbformat": 4,
 "nbformat_minor": 2
}
