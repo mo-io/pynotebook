{
 "cells": [
  {
   "cell_type": "markdown",
   "metadata": {},
   "source": [
    "# اكتب برنامج يمكن المستخدم من ادخال درجة الطالب ويطبع التقدير"
   ]
  },
  {
   "cell_type": "code",
   "execution_count": 2,
   "metadata": {},
   "outputs": [
    {
     "name": "stdout",
     "output_type": "stream",
     "text": [
      "ادخل درجة الطالب:65\n"
     ]
    }
   ],
   "source": [
    "degree = int(input('ادخل درجة الطالب:'))"
   ]
  },
  {
   "cell_type": "code",
   "execution_count": 3,
   "metadata": {},
   "outputs": [
    {
     "name": "stdout",
     "output_type": "stream",
     "text": [
      "مقبول\n"
     ]
    }
   ],
   "source": [
    "if degree >= 0  and degree <=59:\n",
    "    print('راسب')\n",
    "elif degree >= 60 and degree <= 69:\n",
    "    print('مقبول')\n",
    "elif degree >= 70 and degree <= 79:\n",
    "    print('جيد')\n",
    "elif degree >= 80 and degree <= 89:\n",
    "    print('جيد جدا')\n",
    "elif degree >= 90 and degree <= 100:\n",
    "    print('ممتاز')\n",
    "else:\n",
    "    print('درجة غير صحيحة')"
   ]
  },
  {
   "attachments": {},
   "cell_type": "markdown",
   "metadata": {},
   "source": [
    "# اكتب برنامج يحسب مساحة المربع على أن يطبعها إذا كانت تفوق 20 متر مربع. (علمـًا بأنَّ مساحة المربع تحسب بضرب طول الضلع في نفسه)"
   ]
  },
  {
   "cell_type": "code",
   "execution_count": 4,
   "metadata": {},
   "outputs": [
    {
     "name": "stdout",
     "output_type": "stream",
     "text": [
      "ادخل طول ضلع المربع:5\n"
     ]
    }
   ],
   "source": [
    "r = int(input('ادخل طول ضلع المربع:'))"
   ]
  },
  {
   "cell_type": "code",
   "execution_count": 6,
   "metadata": {},
   "outputs": [
    {
     "name": "stdout",
     "output_type": "stream",
     "text": [
      "مساحة المربع =25 متر مربع\n"
     ]
    }
   ],
   "source": [
    "area = r**2\n",
    "if area > 20:\n",
    "    print('مساحة المربع ={} متر مربع'.format(area))"
   ]
  },
  {
   "cell_type": "markdown",
   "metadata": {},
   "source": [
    "# اكتب برنامج يحسب مساحة المستطيل على أن يطبعها إذا كانت تفوق 20 متر مربع. (علمـًا بأنَّ مساحة المستطيل تحسب بضرب الطول في العرض)"
   ]
  },
  {
   "cell_type": "code",
   "execution_count": 7,
   "metadata": {},
   "outputs": [
    {
     "name": "stdout",
     "output_type": "stream",
     "text": [
      "ادخل طول المستطيل:5\n",
      "ادخل عرض المستطيل:7\n"
     ]
    }
   ],
   "source": [
    "leinght = int(input('ادخل طول المستطيل:'))\n",
    "width = int(input('ادخل عرض المستطيل:'))"
   ]
  },
  {
   "cell_type": "code",
   "execution_count": 8,
   "metadata": {},
   "outputs": [
    {
     "name": "stdout",
     "output_type": "stream",
     "text": [
      "مساحة المستطيل = 35 متر مربع\n"
     ]
    }
   ],
   "source": [
    "area = leinght * width\n",
    "if area > 20:\n",
    "    print('مساحة المستطيل = {} متر مربع'.format(area))"
   ]
  },
  {
   "cell_type": "code",
   "execution_count": null,
   "metadata": {},
   "outputs": [],
   "source": []
  }
 ],
 "metadata": {
  "kernelspec": {
   "display_name": "Python 3",
   "language": "python",
   "name": "python3"
  },
  "language_info": {
   "codemirror_mode": {
    "name": "ipython",
    "version": 3
   },
   "file_extension": ".py",
   "mimetype": "text/x-python",
   "name": "python",
   "nbconvert_exporter": "python",
   "pygments_lexer": "ipython3",
   "version": "3.6.4"
  }
 },
 "nbformat": 4,
 "nbformat_minor": 2
}
