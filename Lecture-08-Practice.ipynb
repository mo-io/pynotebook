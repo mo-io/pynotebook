{
 "cells": [
  {
   "cell_type": "markdown",
   "metadata": {},
   "source": [
    "#  تدريبات رقم 8"
   ]
  },
  {
   "attachments": {},
   "cell_type": "markdown",
   "metadata": {},
   "source": [
    "### أكتب برنامج يستقبل من المستخدم ثلاث أرقام صحيحة ثم يطبع كلا من:\n",
    "- باقي قسمة الأول على الثاني مجموعـًا للثالث.\n",
    "- حاصل مضاعف مجموع الأول و الثاني مطروحـًا منه الثالث.  \n",
    "- حاصل مجموع الأول و الثاني مرفوع للقوة 2 ثم مقسوما على الثالث.\n"
   ]
  },
  {
   "cell_type": "code",
   "execution_count": 5,
   "metadata": {},
   "outputs": [
    {
     "name": "stdout",
     "output_type": "stream",
     "text": [
      "ادخل الرقم الأول: 9\n",
      "ادخل الرقم الثاني: 5\n",
      "ادخل الرقم الثالث: 23\n"
     ]
    }
   ],
   "source": [
    "num1 = int(input('ادخل الرقم الأول: '))\n",
    "num2 = int(input('ادخل الرقم الثاني: '))\n",
    "num3 = int(input('ادخل الرقم الثالث: '))"
   ]
  },
  {
   "cell_type": "code",
   "execution_count": 6,
   "metadata": {},
   "outputs": [
    {
     "name": "stdout",
     "output_type": "stream",
     "text": [
      "9 % 5 + 23 = 27\n"
     ]
    }
   ],
   "source": [
    "result = num1 % num2 + num3\n",
    "print('{} % {} + {} = {}'.format(num1, num2, num3, result))"
   ]
  },
  {
   "cell_type": "code",
   "execution_count": 9,
   "metadata": {},
   "outputs": [
    {
     "name": "stdout",
     "output_type": "stream",
     "text": [
      "(9 * 9) + (5 * 5) - 23 = 83\n"
     ]
    }
   ],
   "source": [
    "result = (num1 * num1) + (num2 * num2) - num3\n",
    "print('({0} * {0}) + ({1} * {1}) - {2} = {3}'.format(num1, num2, num3, result))"
   ]
  },
  {
   "cell_type": "code",
   "execution_count": 10,
   "metadata": {},
   "outputs": [
    {
     "name": "stdout",
     "output_type": "stream",
     "text": [
      "(9 + 5) ** 2 / 23 = 8.521739130434783\n"
     ]
    }
   ],
   "source": [
    "result = (num1 + num2) ** 2 / num3\n",
    "print('({} + {}) ** 2 / {} = {}'.format(num1, num2, num3, result))"
   ]
  },
  {
   "cell_type": "markdown",
   "metadata": {},
   "source": [
    "### اكتب برنامجـًا لحسـاب قيمة الزكاة للمال, على أن يقوم المستخدم بإدخال مقدار المبلغ الذي معه و يطبع البرنامج قدر الزكاة المفروضة عليه. علما بأن مقدار الزكاة يقدر بـ (2.5%) من المبلغ."
   ]
  },
  {
   "cell_type": "code",
   "execution_count": 15,
   "metadata": {},
   "outputs": [
    {
     "name": "stdout",
     "output_type": "stream",
     "text": [
      "ادخل قيمة المال: 1500\n",
      "قيمة الزكاة لـ1500 = 37.5 ريال \n"
     ]
    }
   ],
   "source": [
    "maal = int(input('ادخل قيمة المال: '))\n",
    "zkaat = maal * 0.025\n",
    "print('قيمة الزكاة لـ{} = {} ريال '.format(maal, zkaat))"
   ]
  },
  {
   "attachments": {},
   "cell_type": "markdown",
   "metadata": {},
   "source": [
    "###  اكتب برنامجـًا لحسـاب ضريبة القيمة المضافة التي يدفعها المشتري عن قيمة سلعة ما اذا علمت ان الضريبة هي (5%) من قيمة السلعة ، ثم يقوم بطباعة القيمة المضافة  والسعر النهائي يشمل الضريبة."
   ]
  },
  {
   "cell_type": "code",
   "execution_count": 17,
   "metadata": {},
   "outputs": [
    {
     "name": "stdout",
     "output_type": "stream",
     "text": [
      "ادخل قيمة السلعة: 500\n",
      "قيمة السلعة: 500 ريال\n",
      "قيمة الضريبة : 25.0 ريال\n",
      "القيمة شامل الضريبة : 525.0 ريال\n"
     ]
    }
   ],
   "source": [
    "maal = int(input('ادخل قيمة السلعة: '))\n",
    "vat = maal * 0.05\n",
    "include_vat = maal + vat \n",
    "print('قيمة السلعة: {} ريال'.format(maal))\n",
    "print('قيمة الضريبة : {} ريال'.format(vat))\n",
    "print('القيمة شامل الضريبة : {} ريال'.format(include_vat))"
   ]
  },
  {
   "cell_type": "code",
   "execution_count": null,
   "metadata": {},
   "outputs": [],
   "source": []
  }
 ],
 "metadata": {
  "kernelspec": {
   "display_name": "Python 3",
   "language": "python",
   "name": "python3"
  },
  "language_info": {
   "codemirror_mode": {
    "name": "ipython",
    "version": 3
   },
   "file_extension": ".py",
   "mimetype": "text/x-python",
   "name": "python",
   "nbconvert_exporter": "python",
   "pygments_lexer": "ipython3",
   "version": "3.6.4"
  }
 },
 "nbformat": 4,
 "nbformat_minor": 2
}
