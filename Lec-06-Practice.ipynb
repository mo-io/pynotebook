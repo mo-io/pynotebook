{
 "cells": [
  {
   "cell_type": "markdown",
   "metadata": {},
   "source": [
    "# تمارين المحاضرة رقم 6"
   ]
  },
  {
   "attachments": {},
   "cell_type": "markdown",
   "metadata": {},
   "source": [
    "## اكتب برنامج لطباعة رسالة تعريف باسمك!"
   ]
  },
  {
   "cell_type": "markdown",
   "metadata": {},
   "source": [
    "##  الخطوة الاولى قم بتعريف متغيرات بإستخدام شروط المعرفات التي درستها في المحاضرات السابق\n",
    "## واسند اليها القيم المطلوبة"
   ]
  },
  {
   "cell_type": "code",
   "execution_count": 1,
   "metadata": {},
   "outputs": [],
   "source": [
    "first_name = 'احمد'\n",
    "last_name = 'عبدالله'\n",
    "address = 'الرياض'\n",
    "Tel = '0135857667'"
   ]
  },
  {
   "cell_type": "markdown",
   "metadata": {},
   "source": [
    "## استدعي دالة الطباعة لطباعة محتيوات المتغيرات اعلاه على الشاشة"
   ]
  },
  {
   "cell_type": "code",
   "execution_count": 2,
   "metadata": {
    "collapsed": true
   },
   "outputs": [
    {
     "name": "stdout",
     "output_type": "stream",
     "text": [
      "محمد\n"
     ]
    }
   ],
   "source": [
    "print(first_name)"
   ]
  },
  {
   "cell_type": "markdown",
   "metadata": {},
   "source": [
    "## لطباعة الاسم بالكامل يمكن اجراء عدة خطوات \n",
    "## اما استدعاء دالة الطباعة وتضمين المتغيرين الاسم الاول والاسم الاخير "
   ]
  },
  {
   "cell_type": "code",
   "execution_count": 3,
   "metadata": {
    "collapsed": true
   },
   "outputs": [
    {
     "name": "stdout",
     "output_type": "stream",
     "text": [
      "محمد عبدالله\n"
     ]
    }
   ],
   "source": [
    "print(first_name, last_name)"
   ]
  },
  {
   "cell_type": "markdown",
   "metadata": {},
   "source": [
    "## او بإمكانك ان تدمج المتغيرين في متغير واحد مع اضافة مسافة بين محتويات المتغيرين "
   ]
  },
  {
   "cell_type": "code",
   "execution_count": 6,
   "metadata": {
    "collapsed": true
   },
   "outputs": [
    {
     "name": "stdout",
     "output_type": "stream",
     "text": [
      "محمدعبدالله\n"
     ]
    }
   ],
   "source": [
    "full_name = first_name + last_name\n",
    "print(full_name)"
   ]
  },
  {
   "cell_type": "code",
   "execution_count": 5,
   "metadata": {
    "collapsed": true
   },
   "outputs": [
    {
     "name": "stdout",
     "output_type": "stream",
     "text": [
      "محمد عبدالله\n"
     ]
    }
   ],
   "source": [
    "full_name = first_name + ' ' + last_name\n",
    "print(full_name)"
   ]
  },
  {
   "cell_type": "markdown",
   "metadata": {},
   "source": [
    "## لطباعة كافة المتغيرات بصورة مرتبة "
   ]
  },
  {
   "cell_type": "code",
   "execution_count": 13,
   "metadata": {
    "collapsed": true
   },
   "outputs": [
    {
     "name": "stdout",
     "output_type": "stream",
     "text": [
      "محمدعبدالله\n",
      "\n",
      "حوطة بني تميم\n",
      "\n",
      "0115887577\n"
     ]
    }
   ],
   "source": [
    "print(full_name + '\\n')\n",
    "print(address + '\\n')\n",
    "print(Tel)"
   ]
  },
  {
   "cell_type": "code",
   "execution_count": 14,
   "metadata": {
    "collapsed": true
   },
   "outputs": [
    {
     "name": "stdout",
     "output_type": "stream",
     "text": [
      "محمدعبدالله\tحوطة بني تميم\t0115887577\n"
     ]
    }
   ],
   "source": [
    "print(full_name + '\\t' + address + '\\t' + Tel)"
   ]
  },
  {
   "cell_type": "markdown",
   "metadata": {},
   "source": [
    "## او يمكنك استخدام الدالة format"
   ]
  },
  {
   "cell_type": "code",
   "execution_count": 15,
   "metadata": {
    "collapsed": true
   },
   "outputs": [
    {
     "name": "stdout",
     "output_type": "stream",
     "text": [
      "الاسم:محمدعبدالله\n"
     ]
    }
   ],
   "source": [
    "print('الاسم:{}'.format(full_name))"
   ]
  },
  {
   "cell_type": "code",
   "execution_count": 16,
   "metadata": {
    "collapsed": true
   },
   "outputs": [
    {
     "name": "stdout",
     "output_type": "stream",
     "text": [
      "العنوان:حوطة بني تميم\n"
     ]
    }
   ],
   "source": [
    "print('العنوان:{}'.format(address))"
   ]
  },
  {
   "cell_type": "code",
   "execution_count": 17,
   "metadata": {
    "collapsed": true
   },
   "outputs": [
    {
     "name": "stdout",
     "output_type": "stream",
     "text": [
      "الاسم:محمدعبدالله \t العنوان:حوطة بني تميم \t الهاتف:0115887577\n"
     ]
    }
   ],
   "source": [
    "print('الاسم:{} \\t العنوان:{} \\t الهاتف:{}'.format(full_name, address, Tel))"
   ]
  },
  {
   "cell_type": "markdown",
   "metadata": {},
   "source": [
    "# لنقم بتحسين البرنامج اعلاه وبدلاً عن تخزين الاسم والعنوان في المتغيرات \n",
    "# نقوم بحث المستخدم على ادخال اسمه وعنوانه على ان يتم تخزين هذه القيم في نفس المتغيرات السابقة \n",
    "# ثم نطبع محتويات هذه المتغيرات على الشاشة"
   ]
  },
  {
   "cell_type": "code",
   "execution_count": 19,
   "metadata": {
    "collapsed": true
   },
   "outputs": [
    {
     "name": "stdout",
     "output_type": "stream",
     "text": [
      "ما اسمك الاول:محمد\n"
     ]
    }
   ],
   "source": [
    "first_name = input('ما اسمك الاول:')"
   ]
  },
  {
   "cell_type": "code",
   "execution_count": 20,
   "metadata": {
    "collapsed": true
   },
   "outputs": [
    {
     "name": "stdout",
     "output_type": "stream",
     "text": [
      "ما اسمك الاخير:عبدالعظيم\n"
     ]
    }
   ],
   "source": [
    "last_name = input('ما اسمك الاخير:')"
   ]
  },
  {
   "cell_type": "code",
   "execution_count": 21,
   "metadata": {
    "collapsed": true
   },
   "outputs": [
    {
     "name": "stdout",
     "output_type": "stream",
     "text": [
      "ما هو عنوانك الحالي:حوطة بني تميم \n"
     ]
    }
   ],
   "source": [
    "address = input('ما هو عنوانك الحالي:')"
   ]
  },
  {
   "cell_type": "code",
   "execution_count": 22,
   "metadata": {
    "collapsed": true
   },
   "outputs": [
    {
     "name": "stdout",
     "output_type": "stream",
     "text": [
      "ادخل رقم الهاتف:0115887577\n"
     ]
    }
   ],
   "source": [
    "tel = input('ادخل رقم الهاتف:')"
   ]
  },
  {
   "cell_type": "code",
   "execution_count": 23,
   "metadata": {
    "collapsed": true
   },
   "outputs": [
    {
     "name": "stdout",
     "output_type": "stream",
     "text": [
      "الاسم:محمدعبدالله \t العنوان:حوطة بني تميم  \t الهاتف:0115887577\n"
     ]
    }
   ],
   "source": [
    "print('الاسم:{} \\t العنوان:{} \\t الهاتف:{}'.format(full_name, address, Tel))"
   ]
  },
  {
   "cell_type": "markdown",
   "metadata": {},
   "source": [
    "# بناءً على التمارين اعلاه اجري الاتي\n",
    "## اكتب برنامج يطلب من المستخدم ادخال رقمين \n",
    "## ثم يقوم بطباعة حاصل الجمع والطرح والضرب والقسمة \n"
   ]
  }
 ],
 "metadata": {
  "kernelspec": {
   "display_name": "Python 3",
   "language": "python",
   "name": "python3"
  },
  "language_info": {
   "codemirror_mode": {
    "name": "ipython",
    "version": 3
   },
   "file_extension": ".py",
   "mimetype": "text/x-python",
   "name": "python",
   "nbconvert_exporter": "python",
   "pygments_lexer": "ipython3",
   "version": "3.6.3"
  }
 },
 "nbformat": 4,
 "nbformat_minor": 2
}
