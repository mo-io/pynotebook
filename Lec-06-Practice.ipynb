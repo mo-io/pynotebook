{
 "cells": [
  {
   "cell_type": "markdown",
   "metadata": {},
   "source": [
    "# تمارين المحاضرة رقم 6"
   ]
  },
  {
   "attachments": {},
   "cell_type": "markdown",
   "metadata": {},
   "source": [
    "## اكتب برنامج لطباعة رسالة تعريف باسمك!"
   ]
  },
  {
   "cell_type": "markdown",
   "metadata": {},
   "source": [
    "##  الخطوة الاولى قم بتعريف متغيرات بإستخدام شروط المعرفات التي درستها في المحاضرات السابق\n",
    "## واسند اليها القيم المطلوبة"
   ]
  },
  {
   "cell_type": "code",
   "execution_count": 24,
   "metadata": {},
   "outputs": [],
   "source": [
    "first_name = 'احمد'\n",
    "last_name = 'عبدالله'\n",
    "address = 'الرياض'\n",
    "Tel = '0135857667'"
   ]
  },
  {
   "cell_type": "markdown",
   "metadata": {},
   "source": [
    "## استدعي دالة الطباعة لطباعة محتيوات المتغيرات اعلاه على الشاشة"
   ]
  },
  {
   "cell_type": "code",
   "execution_count": 25,
   "metadata": {
    "collapsed": true
   },
   "outputs": [
    {
     "name": "stdout",
     "output_type": "stream",
     "text": [
      "احمد\n"
     ]
    }
   ],
   "source": [
    "print(first_name)"
   ]
  },
  {
   "cell_type": "markdown",
   "metadata": {},
   "source": [
    "## لطباعة الاسم بالكامل يمكن اجراء عدة خطوات \n",
    "## اما استدعاء دالة الطباعة وتضمين المتغيرين الاسم الاول والاسم الاخير "
   ]
  },
  {
   "cell_type": "code",
   "execution_count": 26,
   "metadata": {
    "collapsed": true
   },
   "outputs": [
    {
     "name": "stdout",
     "output_type": "stream",
     "text": [
      "احمد عبدالله\n"
     ]
    }
   ],
   "source": [
    "print(first_name, last_name)"
   ]
  },
  {
   "cell_type": "markdown",
   "metadata": {},
   "source": [
    "## او بإمكانك ان تدمج المتغيرين في متغير واحد مع اضافة مسافة بين محتويات المتغيرين "
   ]
  },
  {
   "cell_type": "code",
   "execution_count": 27,
   "metadata": {
    "collapsed": true
   },
   "outputs": [
    {
     "name": "stdout",
     "output_type": "stream",
     "text": [
      "احمدعبدالله\n"
     ]
    }
   ],
   "source": [
    "full_name = first_name + last_name\n",
    "print(full_name)"
   ]
  },
  {
   "cell_type": "code",
   "execution_count": 28,
   "metadata": {
    "collapsed": true
   },
   "outputs": [
    {
     "name": "stdout",
     "output_type": "stream",
     "text": [
      "احمد عبدالله\n"
     ]
    }
   ],
   "source": [
    "full_name = first_name + ' ' + last_name\n",
    "print(full_name)"
   ]
  },
  {
   "cell_type": "markdown",
   "metadata": {},
   "source": [
    "## لطباعة كافة المتغيرات بصورة مرتبة "
   ]
  },
  {
   "cell_type": "code",
   "execution_count": 29,
   "metadata": {
    "collapsed": true
   },
   "outputs": [
    {
     "name": "stdout",
     "output_type": "stream",
     "text": [
      "احمد عبدالله\n",
      "\n",
      "الرياض\n",
      "\n",
      "0135857667\n"
     ]
    }
   ],
   "source": [
    "print(full_name + '\\n')\n",
    "print(address + '\\n')\n",
    "print(Tel)"
   ]
  },
  {
   "cell_type": "code",
   "execution_count": 30,
   "metadata": {
    "collapsed": true
   },
   "outputs": [
    {
     "name": "stdout",
     "output_type": "stream",
     "text": [
      "احمد عبدالله\tالرياض\t0135857667\n"
     ]
    }
   ],
   "source": [
    "print(full_name + '\\t' + address + '\\t' + Tel)"
   ]
  },
  {
   "cell_type": "markdown",
   "metadata": {},
   "source": [
    "## او يمكنك استخدام الدالة format"
   ]
  },
  {
   "cell_type": "code",
   "execution_count": 31,
   "metadata": {
    "collapsed": true
   },
   "outputs": [
    {
     "name": "stdout",
     "output_type": "stream",
     "text": [
      "الاسم:احمد عبدالله\n"
     ]
    }
   ],
   "source": [
    "print('الاسم:{}'.format(full_name))"
   ]
  },
  {
   "cell_type": "code",
   "execution_count": 32,
   "metadata": {
    "collapsed": true
   },
   "outputs": [
    {
     "name": "stdout",
     "output_type": "stream",
     "text": [
      "العنوان:الرياض\n"
     ]
    }
   ],
   "source": [
    "print('العنوان:{}'.format(address))"
   ]
  },
  {
   "cell_type": "code",
   "execution_count": 33,
   "metadata": {
    "collapsed": true
   },
   "outputs": [
    {
     "name": "stdout",
     "output_type": "stream",
     "text": [
      "الاسم:احمد عبدالله \t العنوان:الرياض \t الهاتف:0135857667\n"
     ]
    }
   ],
   "source": [
    "print('الاسم:{} \\t العنوان:{} \\t الهاتف:{}'.format(full_name, address, Tel))"
   ]
  },
  {
   "cell_type": "markdown",
   "metadata": {},
   "source": [
    "# لنقم بتحسين البرنامج اعلاه وبدلاً عن تخزين الاسم والعنوان في المتغيرات \n",
    "# نقوم بحث المستخدم على ادخال اسمه وعنوانه على ان يتم تخزين هذه القيم في نفس المتغيرات السابقة \n",
    "# ثم نطبع محتويات هذه المتغيرات على الشاشة"
   ]
  },
  {
   "cell_type": "code",
   "execution_count": 34,
   "metadata": {
    "collapsed": true
   },
   "outputs": [
    {
     "name": "stdout",
     "output_type": "stream",
     "text": [
      "ما اسمك الاول:\n"
     ]
    }
   ],
   "source": [
    "first_name = input('ما اسمك الاول:')"
   ]
  },
  {
   "cell_type": "code",
   "execution_count": 35,
   "metadata": {
    "collapsed": true
   },
   "outputs": [
    {
     "name": "stdout",
     "output_type": "stream",
     "text": [
      "ما اسمك الاخير:\n"
     ]
    }
   ],
   "source": [
    "last_name = input('ما اسمك الاخير:')"
   ]
  },
  {
   "cell_type": "code",
   "execution_count": 36,
   "metadata": {
    "collapsed": true
   },
   "outputs": [
    {
     "name": "stdout",
     "output_type": "stream",
     "text": [
      "ما هو عنوانك الحالي:\n"
     ]
    }
   ],
   "source": [
    "address = input('ما هو عنوانك الحالي:')"
   ]
  },
  {
   "cell_type": "code",
   "execution_count": 37,
   "metadata": {
    "collapsed": true
   },
   "outputs": [
    {
     "name": "stdout",
     "output_type": "stream",
     "text": [
      "ادخل رقم الهاتف:\n"
     ]
    }
   ],
   "source": [
    "tel = input('ادخل رقم الهاتف:')"
   ]
  },
  {
   "cell_type": "code",
   "execution_count": 38,
   "metadata": {
    "collapsed": true
   },
   "outputs": [
    {
     "name": "stdout",
     "output_type": "stream",
     "text": [
      "الاسم:احمد عبدالله \t العنوان: \t الهاتف:0135857667\n"
     ]
    }
   ],
   "source": [
    "print('الاسم:{} \\t العنوان:{} \\t الهاتف:{}'.format(full_name, address, Tel))"
   ]
  },
  {
   "cell_type": "markdown",
   "metadata": {},
   "source": [
    "# بناءً على التمارين اعلاه اجري الاتي\n",
    "## اكتب برنامج يطلب من المستخدم ادخال رقمين \n",
    "## ثم يقوم بطباعة حاصل الجمع والطرح والضرب والقسمة \n"
   ]
  }
 ],
 "metadata": {
  "kernelspec": {
   "display_name": "Python 3",
   "language": "python",
   "name": "python3"
  },
  "language_info": {
   "codemirror_mode": {
    "name": "ipython",
    "version": 3
   },
   "file_extension": ".py",
   "mimetype": "text/x-python",
   "name": "python",
   "nbconvert_exporter": "python",
   "pygments_lexer": "ipython3",
   "version": "3.6.3"
  }
 },
 "nbformat": 4,
 "nbformat_minor": 2
}
